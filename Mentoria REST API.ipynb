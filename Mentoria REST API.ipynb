{
 "cells": [
  {
   "cell_type": "markdown",
   "id": "0baaa13b",
   "metadata": {},
   "source": [
    "### Consumir dados de uma API"
   ]
  },
  {
   "cell_type": "code",
   "execution_count": null,
   "id": "dbdd6973",
   "metadata": {},
   "outputs": [],
   "source": [
    "import requests\n",
    "\n",
    "link = \"https://economia.awesomeapi.com.br/last/USD-BRL,EUR-BRL,BTC-BRL\"\n",
    "\n",
    "requisicao = requests.get(link)\n",
    "\n",
    "\n",
    "#Create == post\n",
    "#Read == get\n",
    "#Update == post(patch)\n",
    "#Delete == delete"
   ]
  },
  {
   "cell_type": "code",
   "execution_count": null,
   "id": "f60e4ba9",
   "metadata": {},
   "outputs": [],
   "source": [
    "print(requisicao.json())"
   ]
  },
  {
   "cell_type": "markdown",
   "id": "fb303b0c",
   "metadata": {},
   "source": [
    "### Criar uma API com Flask"
   ]
  },
  {
   "cell_type": "code",
   "execution_count": null,
   "id": "13f8e5d1",
   "metadata": {},
   "outputs": [],
   "source": [
    "from flask import Flask\n",
    "import pandas as pd\n",
    "\n",
    "app = Flask(__name__) # cria o site\n",
    "tabela = pd.read_excel(\"Vendas-Dez.xlsx\")\n",
    "\n",
    "@app.route(\"/\") # decorator -> diz em qual link a função vai rodar\n",
    "def fat(): # função\n",
    "    faturamento = float(tabela[\"Valor Final\"].sum())\n",
    "    return {\"faturamento\": faturamento}\n",
    "\n",
    "@app.route(\"/vendas/produtos\") \n",
    "def vendas_produtos(): \n",
    "    tabela_vendas_produtos = tabela[[\"Produto\", \"Valor Final\"]].groupby(\"Produto\").sum()\n",
    "    dic_vendas_produtos = tabela_vendas_produtos.to_dict()\n",
    "    return dic_vendas_produtos\n",
    "\n",
    "@app.route(\"/vendas/produtos/<produto>\") \n",
    "def fat_produto(produto): \n",
    "    tabela_vendas_produtos = tabela[[\"Produto\", \"Valor Final\"]].groupby(\"Produto\").sum()\n",
    "    if produto in tabela_vendas_produtos.index:\n",
    "        vendas_produto = tabela_vendas_produtos.loc[produto]\n",
    "        dic_vendas_produto = vendas_produto.to_dict()\n",
    "        return dic_vendas_produto\n",
    "    else:\n",
    "        return {produto: \"Inexistente\"}\n",
    "    \n",
    "app.run() # no replit use app.run(host=\"0.0.0.0\") # coloca o site no ar"
   ]
  },
  {
   "cell_type": "code",
   "execution_count": null,
   "id": "71f7f184",
   "metadata": {},
   "outputs": [],
   "source": [
    "link2 = \"http://127.0.0.1:5000\"\n",
    "\n",
    "requisicao = requests.get(link2)"
   ]
  },
  {
   "cell_type": "code",
   "execution_count": null,
   "id": "5a8c4cc4",
   "metadata": {},
   "outputs": [],
   "source": [
    "print(requisicao)"
   ]
  },
  {
   "cell_type": "code",
   "execution_count": null,
   "id": "0f3cc16a",
   "metadata": {},
   "outputs": [],
   "source": []
  }
 ],
 "metadata": {
  "kernelspec": {
   "display_name": "Python 3 (ipykernel)",
   "language": "python",
   "name": "python3"
  },
  "language_info": {
   "codemirror_mode": {
    "name": "ipython",
    "version": 3
   },
   "file_extension": ".py",
   "mimetype": "text/x-python",
   "name": "python",
   "nbconvert_exporter": "python",
   "pygments_lexer": "ipython3",
   "version": "3.9.13"
  }
 },
 "nbformat": 4,
 "nbformat_minor": 5
}
